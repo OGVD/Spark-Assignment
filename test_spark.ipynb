{
 "cells": [
  {
   "cell_type": "code",
   "execution_count": null,
   "id": "76f6a0aa-1526-4d67-a7cc-3cad0fe396c1",
   "metadata": {},
   "outputs": [],
   "source": [
    "import findspark\n",
    "findspark.init()\n",
    "\n",
    "from pyspark import SparkContext"
   ]
  },
  {
   "cell_type": "code",
   "execution_count": null,
   "id": "5aef6502-3cb4-4f9f-b912-ee889943f3e2",
   "metadata": {},
   "outputs": [],
   "source": [
    "sc = SparkContext(\"local[*]\", \"Name of the Program\")"
   ]
  },
  {
   "cell_type": "code",
   "execution_count": null,
   "id": "1f177796-e7d2-41a0-a68b-db09704b5a6f",
   "metadata": {},
   "outputs": [],
   "source": [
    "rdd1=sc.parallelize ([1,2,3,4,5,8])\n",
    "\n",
    "res=rdd1.reduce(lambda x,y: x+y)\n",
    "\n",
    "print (\"result:\",res)"
   ]
  }
 ],
 "metadata": {
  "kernelspec": {
   "display_name": "Python 3 (ipykernel)",
   "language": "python",
   "name": "python3"
  },
  "language_info": {
   "codemirror_mode": {
    "name": "ipython",
    "version": 3
   },
   "file_extension": ".py",
   "mimetype": "text/x-python",
   "name": "python",
   "nbconvert_exporter": "python",
   "pygments_lexer": "ipython3",
   "version": "3.11.0"
  }
 },
 "nbformat": 4,
 "nbformat_minor": 5
}
